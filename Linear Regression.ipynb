{
 "cells": [
  {
   "cell_type": "code",
   "execution_count": 49,
   "metadata": {},
   "outputs": [],
   "source": [
    "import numpy as np"
   ]
  },
  {
   "cell_type": "code",
   "execution_count": 71,
   "metadata": {},
   "outputs": [],
   "source": [
    "class LinearRegression:\n",
    "\n",
    "\n",
    "    def __init__(self, lr = 0.01, epochs = 10000, tol = 0.00000001) -> None:\n",
    "        \n",
    "        self.lr = lr\n",
    "        self.tol = tol\n",
    "        self.epochs = epochs\n",
    "        self.loss = np.zeros(shape = (self.epochs, ))\n",
    "\n",
    "    def fit(self, X, y) -> None:\n",
    "\n",
    "        self.m, self.n = X.shape\n",
    "        self.x = X\n",
    "        self.y = y\n",
    "\n",
    "        if self.y.ndim == 1:\n",
    "\n",
    "            self.weights = np.random.uniform(-0.5, 0.5, size = (self.n, ))\n",
    "            self.bias = np.random.uniform(-0.5, 0.5)\n",
    "        \n",
    "        else:\n",
    "\n",
    "            self.weights = np.random.uniform(-0.5, 0.5, size = (self.n, 1))\n",
    "            self.bias = np.random.uniform(-0.5, 0.5)\n",
    "\n",
    "        \n",
    "        for epoch in range(self.epochs):\n",
    "\n",
    "            pred = self.predict(X)\n",
    "            loss = np.mean(np.square(self.y - pred))\n",
    "            self.loss[epoch] = loss\n",
    "\n",
    "            self.weights -= self.lr * (-2 / self.m) * np.dot(self.x.T, self.y - pred)\n",
    "            self.bias -= self.lr * (-2 / self.m) * np.sum(self.y - pred)\n",
    "\n",
    "            if epoch % 1000 == 0:\n",
    "                print(f\"epoch {epoch}/{self.epochs} -- loss {self.loss[epoch]:.2f}\")\n",
    "\n",
    "            if epoch >= 1 and np.abs(self.loss[epoch] - self.loss[epoch - 1]) < self.tol:\n",
    "\n",
    "                break\n",
    "    \n",
    "\n",
    "    def predict(self, X) -> np.array:\n",
    "\n",
    "        return np.dot(X, self.weights) + self.bias\n"
   ]
  }
 ],
 "metadata": {
  "kernelspec": {
   "display_name": "base",
   "language": "python",
   "name": "python3"
  },
  "language_info": {
   "codemirror_mode": {
    "name": "ipython",
    "version": 3
   },
   "file_extension": ".py",
   "mimetype": "text/x-python",
   "name": "python",
   "nbconvert_exporter": "python",
   "pygments_lexer": "ipython3",
   "version": "3.12.4"
  }
 },
 "nbformat": 4,
 "nbformat_minor": 2
}
